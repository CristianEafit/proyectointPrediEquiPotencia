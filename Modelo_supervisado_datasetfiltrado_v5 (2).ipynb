{
  "cells": [
    {
      "cell_type": "code",
      "execution_count": null,
      "metadata": {
        "colab": {
          "base_uri": "https://localhost:8080/"
        },
        "id": "ydsAdsFSo4qX",
        "outputId": "5eed189d-a950-43a0-b060-a65fb92957c3"
      },
      "outputs": [
        {
          "output_type": "stream",
          "name": "stdout",
          "text": [
            "Drive already mounted at /content/gdrive; to attempt to forcibly remount, call drive.mount(\"/content/gdrive\", force_remount=True).\n"
          ]
        }
      ],
      "source": [
        "#Configuro el Google Colab conectandome a los datos desde la cuenta de Google\n",
        "from google.colab import drive\n",
        "drive.mount('/content/gdrive')"
      ],
      "id": "ydsAdsFSo4qX"
    },
    {
      "cell_type": "code",
      "execution_count": null,
      "metadata": {
        "id": "fa67805c-3939-40a5-b451-7645a169f613"
      },
      "outputs": [],
      "source": [
        "import os\n",
        "import numpy as np\n",
        "import pandas as pd\n",
        "import matplotlib.pyplot as plt\n",
        "from sklearn.model_selection import train_test_split\n",
        "from sklearn.preprocessing import StandardScaler, OneHotEncoder\n",
        "from sklearn.compose import ColumnTransformer\n",
        "from sklearn.pipeline import Pipeline\n",
        "from sklearn.impute import SimpleImputer\n",
        "from sklearn.svm import SVC\n",
        "from sklearn.ensemble import RandomForestClassifier\n",
        "from sklearn.linear_model import LogisticRegression\n",
        "from sklearn.discriminant_analysis import LinearDiscriminantAnalysis\n",
        "from sklearn.neighbors import KNeighborsClassifier\n",
        "from sklearn.tree import DecisionTreeClassifier\n",
        "from sklearn.metrics import accuracy_score, precision_score, recall_score, f1_score, classification_report\n",
        "from sklearn.model_selection import cross_val_score\n",
        "from sklearn.model_selection import cross_val_predict\n",
        "from sklearn.multiclass import OneVsRestClassifier\n",
        "from sklearn.preprocessing import label_binarize\n",
        "from sklearn.metrics import roc_curve, auc\n",
        "from sklearn.metrics import roc_auc_score\n",
        "from sklearn.linear_model import Ridge, Lasso\n",
        "from sklearn.model_selection import GridSearchCV\n",
        "from sklearn.model_selection import RandomizedSearchCV\n",
        "import plotly.graph_objects as go\n",
        "from sklearn.decomposition import PCA\n",
        "import seaborn as sns\n",
        "import warnings\n",
        "import time\n",
        "from sklearn.preprocessing import LabelEncoder, OneHotEncoder\n",
        "from sklearn.linear_model import LogisticRegression\n",
        "from sklearn.exceptions import ConvergenceWarning\n",
        "\n",
        "\n",
        "\n",
        "# Desactivar las advertencias de convergencia para mejorar la legibilidad\n",
        "warnings.filterwarnings(\"ignore\", category=ConvergenceWarning)\n"
      ],
      "id": "fa67805c-3939-40a5-b451-7645a169f613"
    },
    {
      "cell_type": "markdown",
      "metadata": {
        "id": "79e5e82f-82d4-4c71-90b7-cf63272e6750"
      },
      "source": [
        "# Preparación de los datos"
      ],
      "id": "79e5e82f-82d4-4c71-90b7-cf63272e6750"
    },
    {
      "cell_type": "code",
      "execution_count": null,
      "metadata": {
        "id": "19qoGz3V0_HT"
      },
      "outputs": [],
      "source": [
        "df1 = pd.read_csv('/content/gdrive/MyDrive/EAFIT/ProyectoIntegrador1/DatasetsRM/csv/df_familias_filtrado.csv') #dataframe etiquetado por k-means\n",
        "df2 = pd.read_csv('/content/gdrive/MyDrive/EAFIT/ProyectoIntegrador1/DatasetsRM/csv/all_files_E(2).csv') #Dataframe original Inicial, empleado en RAW"
      ],
      "id": "19qoGz3V0_HT"
    },
    {
      "cell_type": "markdown",
      "metadata": {
        "id": "14CbW8XBvyWe"
      },
      "source": [
        "# Fusión de dataframes\n",
        "\n",
        "## Split de columnas"
      ],
      "id": "14CbW8XBvyWe"
    },
    {
      "cell_type": "code",
      "execution_count": null,
      "metadata": {
        "id": "3GIcIe_wv0yg"
      },
      "outputs": [],
      "source": [
        "#Split de columna familia en columnas categóricas\n",
        "df1['family'] = df1['family'].str.split('_')\n",
        "# Añadir las nuevas columnas al DataFrame original df1\n",
        "df1[['group_number', 'stator_kv', 'mfr', 'requested_test_kv']] = pd.DataFrame(df1['family'].tolist(), index=df1.index) #creación de columnas categorías\n",
        "# Eliminar la columna original si es necesario\n",
        "df1 = df1.drop(columns=['family']) #Se elimina la columna family\n",
        "df1 = df1.drop(columns=['Unnamed: 0'])#Se elimina columna innecesaria\n",
        "#df1.to_csv('D:/Analitica/Modelos/Finales/out/df_family_split.csv') # Dataset etiquetado, con columnas separadas a Trusted\n",
        "#Convertir formato de las columnas\n",
        "columns_to_convert = ['test_kv', 'ma', 'requested_test_kv']\n",
        "df1_clean = df1.copy() # Se trabajará con dataframe limpio, para no modificar el original df1\n",
        "df1_clean[columns_to_convert] = df1_clean[columns_to_convert].astype(float) #Aunque son categorías, es mas conveniente trabajarlas con formato numérico"
      ],
      "id": "3GIcIe_wv0yg"
    },
    {
      "cell_type": "markdown",
      "metadata": {
        "id": "bCA2EGuqwFc8"
      },
      "source": [
        "## Etiquetado del dataframe original"
      ],
      "id": "bCA2EGuqwFc8"
    },
    {
      "cell_type": "code",
      "execution_count": null,
      "metadata": {
        "id": "tfiGh3aAwHFU"
      },
      "outputs": [],
      "source": [
        "#Redefinicion de variables; Se volverán a concatenar en 1 sola columna (clave), para mantener un orden lógico de formación\n",
        "df1_1= df1_clean\n",
        "df1_1['clave'] = df1['stator_kv'].astype(str) + '_' + df1['mfr'].astype(str) + '_' + df1['group_number'].astype(str)+ '_' + df1['test_kv'].astype(str)+ '_' + df1['ma'].astype(str)\n",
        "#df1_1.head()"
      ],
      "id": "tfiGh3aAwHFU"
    },
    {
      "cell_type": "code",
      "execution_count": null,
      "metadata": {
        "id": "zk9dDmVGwKHW"
      },
      "outputs": [],
      "source": [
        "#Redefinicion de variables; Se volverán a concatenar en 1 sola columna (clave), para mantener un orden lógico de formación\n",
        "df2_2 =df2\n",
        "df2_2 = df2_2.drop(columns=['Unnamed: 0'])\n",
        "df2_2['clave'] = df2_2['stator_kv'].astype(str) + '_' + df2_2['mfr'].astype(str) + '_' + df2['group_number'].astype(str)+ '_' + df2_2['test_kv'].astype(str)+ '_' + df2_2['ma'].astype(str)\n",
        "#df2_2.head(5)"
      ],
      "id": "zk9dDmVGwKHW"
    },
    {
      "cell_type": "code",
      "execution_count": null,
      "metadata": {
        "colab": {
          "base_uri": "https://localhost:8080/"
        },
        "id": "GmGFAOqMwNct",
        "outputId": "db0452bf-ed3f-4f3b-c8a4-781ba9d3810e"
      },
      "outputs": [
        {
          "output_type": "stream",
          "name": "stdout",
          "text": [
            "Conteo de NaN en df1_1:\n",
            "test_kv              0\n",
            "ma                   0\n",
            "qual                 0\n",
            "group_number         0\n",
            "stator_kv            0\n",
            "mfr                  0\n",
            "requested_test_kv    0\n",
            "clave                0\n",
            "dtype: int64\n",
            "\n",
            "Conteo de NaN en df2_2:\n",
            "serial               0\n",
            "fecha                0\n",
            "stator_kv            0\n",
            "mfr                  0\n",
            "group_number         0\n",
            "requested_test_kv    0\n",
            "test_kv              0\n",
            "ma                   0\n",
            "watts                0\n",
            "measured_cap         2\n",
            "pfm                  0\n",
            "clave                0\n",
            "dtype: int64\n"
          ]
        }
      ],
      "source": [
        "# Contar NaN en df1_1\n",
        "nan_count_df1_1= df1_1.isna().sum()\n",
        "# Contar NaN en df2_2\n",
        "nan_count_df2_2 = df2_2.isna().sum()\n",
        "print(\"Conteo de NaN en df1_1:\")\n",
        "print(nan_count_df1_1)\n",
        "print(\"\\nConteo de NaN en df2_2:\")\n",
        "print(nan_count_df2_2)"
      ],
      "id": "GmGFAOqMwNct"
    },
    {
      "cell_type": "code",
      "execution_count": null,
      "metadata": {
        "colab": {
          "base_uri": "https://localhost:8080/"
        },
        "id": "ti4iJFa6wP3l",
        "outputId": "e7876031-3214-410f-d9b2-440f8530445c"
      },
      "outputs": [
        {
          "output_type": "stream",
          "name": "stdout",
          "text": [
            "\n",
            "Conteo de NaN en df2:\n",
            "serial               0\n",
            "fecha                0\n",
            "stator_kv            0\n",
            "mfr                  0\n",
            "group_number         0\n",
            "requested_test_kv    0\n",
            "test_kv              0\n",
            "ma                   0\n",
            "watts                0\n",
            "measured_cap         0\n",
            "pfm                  0\n",
            "clave                0\n",
            "dtype: int64\n"
          ]
        }
      ],
      "source": [
        "df2_2 = df2_2.dropna()\n",
        "#Contar NaN en df2\n",
        "nan_count_df2_2 = df2_2.isna().sum()\n",
        "print(\"\\nConteo de NaN en df2:\")\n",
        "print(nan_count_df2_2)"
      ],
      "id": "ti4iJFa6wP3l"
    },
    {
      "cell_type": "code",
      "execution_count": null,
      "metadata": {
        "id": "zsxdl80RwSV4"
      },
      "outputs": [],
      "source": [
        "#Inicializacion de dataframe con dataset original + eqtiquetas de df2\n",
        "df3 =[]\n",
        "#df3\n",
        "# Fusionar df2 con df1 para obtener las etiquetas de entrenamiento en df3 basándote en la columna 'clave'\n",
        "df3 = pd.merge(df2_2, df1_1[['clave', 'qual']], on='clave', how='left')\n",
        "#df3.head(5)"
      ],
      "id": "zsxdl80RwSV4"
    },
    {
      "cell_type": "code",
      "execution_count": null,
      "metadata": {
        "colab": {
          "base_uri": "https://localhost:8080/"
        },
        "id": "M8hKTgPTwW76",
        "outputId": "82cb653d-a0e4-46ed-c117-eae651053c0e"
      },
      "outputs": [
        {
          "output_type": "stream",
          "name": "stdout",
          "text": [
            "\n",
            "Conteo de NaN en df3:\n",
            "serial                  0\n",
            "fecha                   0\n",
            "stator_kv               0\n",
            "mfr                     0\n",
            "group_number            0\n",
            "requested_test_kv       0\n",
            "test_kv                 0\n",
            "ma                      0\n",
            "watts                   0\n",
            "measured_cap            0\n",
            "pfm                     0\n",
            "clave                   0\n",
            "qual                 2445\n",
            "dtype: int64\n"
          ]
        }
      ],
      "source": [
        "# Contar NaN en df3\n",
        "nan_count_df3 = df3.isna().sum()\n",
        "print(\"\\nConteo de NaN en df3:\")\n",
        "print(nan_count_df3)"
      ],
      "id": "M8hKTgPTwW76"
    },
    {
      "cell_type": "code",
      "execution_count": null,
      "metadata": {
        "id": "oO61ukSSwaIk"
      },
      "outputs": [],
      "source": [
        "# Eliminar filas con NaN en df3\n",
        "df3 = df3.dropna()\n",
        "# Contar NaN en df3\n",
        "isna_df3_cleaned = df3.isna().sum()\n",
        "#print(\"\\nConteo de NaN en df3:\")\n",
        "#print(isna_df3_cleaned)"
      ],
      "id": "oO61ukSSwaIk"
    },
    {
      "cell_type": "markdown",
      "metadata": {
        "id": "78ledIp3wb_C"
      },
      "source": [
        "## Salida de dataframe etiquetado a dataset *.csv"
      ],
      "id": "78ledIp3wb_C"
    },
    {
      "cell_type": "code",
      "execution_count": null,
      "metadata": {
        "colab": {
          "base_uri": "https://localhost:8080/",
          "height": 300
        },
        "id": "A_4LUTk6siQO",
        "outputId": "e648a01f-f4af-4c19-a27f-3235de10061a"
      },
      "outputs": [
        {
          "output_type": "execute_result",
          "data": {
            "text/plain": [
              "          stator_kv  requested_test_kv       test_kv            ma  \\\n",
              "count  55100.000000       55100.000000  55100.000000  55100.000000   \n",
              "mean      12.888849           4.649437      4.649947    783.782292   \n",
              "std        2.335989           2.282029      2.282420    964.307583   \n",
              "min        6.900000           1.000000      0.993000      3.885000   \n",
              "25%       13.800000           2.000000      2.001000     11.600405   \n",
              "50%       13.800000           4.000000      4.002000    154.320000   \n",
              "75%       13.800000           6.000000      6.005000   1416.900000   \n",
              "max       13.800000          10.000000     10.017000   3769.100000   \n",
              "\n",
              "              watts   measured_cap           pfm          qual  \n",
              "count  55100.000000   55100.000000  55100.000000  55100.000000  \n",
              "mean     122.534820  207721.109224      1.713933      1.540181  \n",
              "std      178.992006  255885.630611      4.268440      1.037720  \n",
              "min     -439.750000 -109771.000000    -92.160000      0.000000  \n",
              "25%        0.711000    3070.820043      0.680000      1.000000  \n",
              "50%       27.662000   40443.200000      1.160000      2.000000  \n",
              "75%      170.740000  375929.658958      1.950000      2.000000  \n",
              "max     1063.900000  999821.900000     97.821735      3.000000  "
            ],
            "text/html": [
              "\n",
              "  <div id=\"df-bb416300-a296-44c4-a7ea-5893e606b74b\" class=\"colab-df-container\">\n",
              "    <div>\n",
              "<style scoped>\n",
              "    .dataframe tbody tr th:only-of-type {\n",
              "        vertical-align: middle;\n",
              "    }\n",
              "\n",
              "    .dataframe tbody tr th {\n",
              "        vertical-align: top;\n",
              "    }\n",
              "\n",
              "    .dataframe thead th {\n",
              "        text-align: right;\n",
              "    }\n",
              "</style>\n",
              "<table border=\"1\" class=\"dataframe\">\n",
              "  <thead>\n",
              "    <tr style=\"text-align: right;\">\n",
              "      <th></th>\n",
              "      <th>stator_kv</th>\n",
              "      <th>requested_test_kv</th>\n",
              "      <th>test_kv</th>\n",
              "      <th>ma</th>\n",
              "      <th>watts</th>\n",
              "      <th>measured_cap</th>\n",
              "      <th>pfm</th>\n",
              "      <th>qual</th>\n",
              "    </tr>\n",
              "  </thead>\n",
              "  <tbody>\n",
              "    <tr>\n",
              "      <th>count</th>\n",
              "      <td>55100.000000</td>\n",
              "      <td>55100.000000</td>\n",
              "      <td>55100.000000</td>\n",
              "      <td>55100.000000</td>\n",
              "      <td>55100.000000</td>\n",
              "      <td>55100.000000</td>\n",
              "      <td>55100.000000</td>\n",
              "      <td>55100.000000</td>\n",
              "    </tr>\n",
              "    <tr>\n",
              "      <th>mean</th>\n",
              "      <td>12.888849</td>\n",
              "      <td>4.649437</td>\n",
              "      <td>4.649947</td>\n",
              "      <td>783.782292</td>\n",
              "      <td>122.534820</td>\n",
              "      <td>207721.109224</td>\n",
              "      <td>1.713933</td>\n",
              "      <td>1.540181</td>\n",
              "    </tr>\n",
              "    <tr>\n",
              "      <th>std</th>\n",
              "      <td>2.335989</td>\n",
              "      <td>2.282029</td>\n",
              "      <td>2.282420</td>\n",
              "      <td>964.307583</td>\n",
              "      <td>178.992006</td>\n",
              "      <td>255885.630611</td>\n",
              "      <td>4.268440</td>\n",
              "      <td>1.037720</td>\n",
              "    </tr>\n",
              "    <tr>\n",
              "      <th>min</th>\n",
              "      <td>6.900000</td>\n",
              "      <td>1.000000</td>\n",
              "      <td>0.993000</td>\n",
              "      <td>3.885000</td>\n",
              "      <td>-439.750000</td>\n",
              "      <td>-109771.000000</td>\n",
              "      <td>-92.160000</td>\n",
              "      <td>0.000000</td>\n",
              "    </tr>\n",
              "    <tr>\n",
              "      <th>25%</th>\n",
              "      <td>13.800000</td>\n",
              "      <td>2.000000</td>\n",
              "      <td>2.001000</td>\n",
              "      <td>11.600405</td>\n",
              "      <td>0.711000</td>\n",
              "      <td>3070.820043</td>\n",
              "      <td>0.680000</td>\n",
              "      <td>1.000000</td>\n",
              "    </tr>\n",
              "    <tr>\n",
              "      <th>50%</th>\n",
              "      <td>13.800000</td>\n",
              "      <td>4.000000</td>\n",
              "      <td>4.002000</td>\n",
              "      <td>154.320000</td>\n",
              "      <td>27.662000</td>\n",
              "      <td>40443.200000</td>\n",
              "      <td>1.160000</td>\n",
              "      <td>2.000000</td>\n",
              "    </tr>\n",
              "    <tr>\n",
              "      <th>75%</th>\n",
              "      <td>13.800000</td>\n",
              "      <td>6.000000</td>\n",
              "      <td>6.005000</td>\n",
              "      <td>1416.900000</td>\n",
              "      <td>170.740000</td>\n",
              "      <td>375929.658958</td>\n",
              "      <td>1.950000</td>\n",
              "      <td>2.000000</td>\n",
              "    </tr>\n",
              "    <tr>\n",
              "      <th>max</th>\n",
              "      <td>13.800000</td>\n",
              "      <td>10.000000</td>\n",
              "      <td>10.017000</td>\n",
              "      <td>3769.100000</td>\n",
              "      <td>1063.900000</td>\n",
              "      <td>999821.900000</td>\n",
              "      <td>97.821735</td>\n",
              "      <td>3.000000</td>\n",
              "    </tr>\n",
              "  </tbody>\n",
              "</table>\n",
              "</div>\n",
              "    <div class=\"colab-df-buttons\">\n",
              "\n",
              "  <div class=\"colab-df-container\">\n",
              "    <button class=\"colab-df-convert\" onclick=\"convertToInteractive('df-bb416300-a296-44c4-a7ea-5893e606b74b')\"\n",
              "            title=\"Convert this dataframe to an interactive table.\"\n",
              "            style=\"display:none;\">\n",
              "\n",
              "  <svg xmlns=\"http://www.w3.org/2000/svg\" height=\"24px\" viewBox=\"0 -960 960 960\">\n",
              "    <path d=\"M120-120v-720h720v720H120Zm60-500h600v-160H180v160Zm220 220h160v-160H400v160Zm0 220h160v-160H400v160ZM180-400h160v-160H180v160Zm440 0h160v-160H620v160ZM180-180h160v-160H180v160Zm440 0h160v-160H620v160Z\"/>\n",
              "  </svg>\n",
              "    </button>\n",
              "\n",
              "  <style>\n",
              "    .colab-df-container {\n",
              "      display:flex;\n",
              "      gap: 12px;\n",
              "    }\n",
              "\n",
              "    .colab-df-convert {\n",
              "      background-color: #E8F0FE;\n",
              "      border: none;\n",
              "      border-radius: 50%;\n",
              "      cursor: pointer;\n",
              "      display: none;\n",
              "      fill: #1967D2;\n",
              "      height: 32px;\n",
              "      padding: 0 0 0 0;\n",
              "      width: 32px;\n",
              "    }\n",
              "\n",
              "    .colab-df-convert:hover {\n",
              "      background-color: #E2EBFA;\n",
              "      box-shadow: 0px 1px 2px rgba(60, 64, 67, 0.3), 0px 1px 3px 1px rgba(60, 64, 67, 0.15);\n",
              "      fill: #174EA6;\n",
              "    }\n",
              "\n",
              "    .colab-df-buttons div {\n",
              "      margin-bottom: 4px;\n",
              "    }\n",
              "\n",
              "    [theme=dark] .colab-df-convert {\n",
              "      background-color: #3B4455;\n",
              "      fill: #D2E3FC;\n",
              "    }\n",
              "\n",
              "    [theme=dark] .colab-df-convert:hover {\n",
              "      background-color: #434B5C;\n",
              "      box-shadow: 0px 1px 3px 1px rgba(0, 0, 0, 0.15);\n",
              "      filter: drop-shadow(0px 1px 2px rgba(0, 0, 0, 0.3));\n",
              "      fill: #FFFFFF;\n",
              "    }\n",
              "  </style>\n",
              "\n",
              "    <script>\n",
              "      const buttonEl =\n",
              "        document.querySelector('#df-bb416300-a296-44c4-a7ea-5893e606b74b button.colab-df-convert');\n",
              "      buttonEl.style.display =\n",
              "        google.colab.kernel.accessAllowed ? 'block' : 'none';\n",
              "\n",
              "      async function convertToInteractive(key) {\n",
              "        const element = document.querySelector('#df-bb416300-a296-44c4-a7ea-5893e606b74b');\n",
              "        const dataTable =\n",
              "          await google.colab.kernel.invokeFunction('convertToInteractive',\n",
              "                                                    [key], {});\n",
              "        if (!dataTable) return;\n",
              "\n",
              "        const docLinkHtml = 'Like what you see? Visit the ' +\n",
              "          '<a target=\"_blank\" href=https://colab.research.google.com/notebooks/data_table.ipynb>data table notebook</a>'\n",
              "          + ' to learn more about interactive tables.';\n",
              "        element.innerHTML = '';\n",
              "        dataTable['output_type'] = 'display_data';\n",
              "        await google.colab.output.renderOutput(dataTable, element);\n",
              "        const docLink = document.createElement('div');\n",
              "        docLink.innerHTML = docLinkHtml;\n",
              "        element.appendChild(docLink);\n",
              "      }\n",
              "    </script>\n",
              "  </div>\n",
              "\n",
              "\n",
              "<div id=\"df-33aedd9e-6300-4c0c-a1b1-d7ec1105c3d1\">\n",
              "  <button class=\"colab-df-quickchart\" onclick=\"quickchart('df-33aedd9e-6300-4c0c-a1b1-d7ec1105c3d1')\"\n",
              "            title=\"Suggest charts\"\n",
              "            style=\"display:none;\">\n",
              "\n",
              "<svg xmlns=\"http://www.w3.org/2000/svg\" height=\"24px\"viewBox=\"0 0 24 24\"\n",
              "     width=\"24px\">\n",
              "    <g>\n",
              "        <path d=\"M19 3H5c-1.1 0-2 .9-2 2v14c0 1.1.9 2 2 2h14c1.1 0 2-.9 2-2V5c0-1.1-.9-2-2-2zM9 17H7v-7h2v7zm4 0h-2V7h2v10zm4 0h-2v-4h2v4z\"/>\n",
              "    </g>\n",
              "</svg>\n",
              "  </button>\n",
              "\n",
              "<style>\n",
              "  .colab-df-quickchart {\n",
              "      --bg-color: #E8F0FE;\n",
              "      --fill-color: #1967D2;\n",
              "      --hover-bg-color: #E2EBFA;\n",
              "      --hover-fill-color: #174EA6;\n",
              "      --disabled-fill-color: #AAA;\n",
              "      --disabled-bg-color: #DDD;\n",
              "  }\n",
              "\n",
              "  [theme=dark] .colab-df-quickchart {\n",
              "      --bg-color: #3B4455;\n",
              "      --fill-color: #D2E3FC;\n",
              "      --hover-bg-color: #434B5C;\n",
              "      --hover-fill-color: #FFFFFF;\n",
              "      --disabled-bg-color: #3B4455;\n",
              "      --disabled-fill-color: #666;\n",
              "  }\n",
              "\n",
              "  .colab-df-quickchart {\n",
              "    background-color: var(--bg-color);\n",
              "    border: none;\n",
              "    border-radius: 50%;\n",
              "    cursor: pointer;\n",
              "    display: none;\n",
              "    fill: var(--fill-color);\n",
              "    height: 32px;\n",
              "    padding: 0;\n",
              "    width: 32px;\n",
              "  }\n",
              "\n",
              "  .colab-df-quickchart:hover {\n",
              "    background-color: var(--hover-bg-color);\n",
              "    box-shadow: 0 1px 2px rgba(60, 64, 67, 0.3), 0 1px 3px 1px rgba(60, 64, 67, 0.15);\n",
              "    fill: var(--button-hover-fill-color);\n",
              "  }\n",
              "\n",
              "  .colab-df-quickchart-complete:disabled,\n",
              "  .colab-df-quickchart-complete:disabled:hover {\n",
              "    background-color: var(--disabled-bg-color);\n",
              "    fill: var(--disabled-fill-color);\n",
              "    box-shadow: none;\n",
              "  }\n",
              "\n",
              "  .colab-df-spinner {\n",
              "    border: 2px solid var(--fill-color);\n",
              "    border-color: transparent;\n",
              "    border-bottom-color: var(--fill-color);\n",
              "    animation:\n",
              "      spin 1s steps(1) infinite;\n",
              "  }\n",
              "\n",
              "  @keyframes spin {\n",
              "    0% {\n",
              "      border-color: transparent;\n",
              "      border-bottom-color: var(--fill-color);\n",
              "      border-left-color: var(--fill-color);\n",
              "    }\n",
              "    20% {\n",
              "      border-color: transparent;\n",
              "      border-left-color: var(--fill-color);\n",
              "      border-top-color: var(--fill-color);\n",
              "    }\n",
              "    30% {\n",
              "      border-color: transparent;\n",
              "      border-left-color: var(--fill-color);\n",
              "      border-top-color: var(--fill-color);\n",
              "      border-right-color: var(--fill-color);\n",
              "    }\n",
              "    40% {\n",
              "      border-color: transparent;\n",
              "      border-right-color: var(--fill-color);\n",
              "      border-top-color: var(--fill-color);\n",
              "    }\n",
              "    60% {\n",
              "      border-color: transparent;\n",
              "      border-right-color: var(--fill-color);\n",
              "    }\n",
              "    80% {\n",
              "      border-color: transparent;\n",
              "      border-right-color: var(--fill-color);\n",
              "      border-bottom-color: var(--fill-color);\n",
              "    }\n",
              "    90% {\n",
              "      border-color: transparent;\n",
              "      border-bottom-color: var(--fill-color);\n",
              "    }\n",
              "  }\n",
              "</style>\n",
              "\n",
              "  <script>\n",
              "    async function quickchart(key) {\n",
              "      const quickchartButtonEl =\n",
              "        document.querySelector('#' + key + ' button');\n",
              "      quickchartButtonEl.disabled = true;  // To prevent multiple clicks.\n",
              "      quickchartButtonEl.classList.add('colab-df-spinner');\n",
              "      try {\n",
              "        const charts = await google.colab.kernel.invokeFunction(\n",
              "            'suggestCharts', [key], {});\n",
              "      } catch (error) {\n",
              "        console.error('Error during call to suggestCharts:', error);\n",
              "      }\n",
              "      quickchartButtonEl.classList.remove('colab-df-spinner');\n",
              "      quickchartButtonEl.classList.add('colab-df-quickchart-complete');\n",
              "    }\n",
              "    (() => {\n",
              "      let quickchartButtonEl =\n",
              "        document.querySelector('#df-33aedd9e-6300-4c0c-a1b1-d7ec1105c3d1 button');\n",
              "      quickchartButtonEl.style.display =\n",
              "        google.colab.kernel.accessAllowed ? 'block' : 'none';\n",
              "    })();\n",
              "  </script>\n",
              "</div>\n",
              "    </div>\n",
              "  </div>\n"
            ]
          },
          "metadata": {},
          "execution_count": 12
        }
      ],
      "source": [
        "df3.describe()"
      ],
      "id": "A_4LUTk6siQO"
    },
    {
      "cell_type": "code",
      "execution_count": null,
      "metadata": {
        "id": "GE-Rf5xyxoal"
      },
      "outputs": [],
      "source": [
        "# Eliminar las columnas utilizadas en el proceso no supervisado, paso necesario para evitar sesgar el modelo\n",
        "# Dado el planteamiento del problema y que en algunos casos la variable pfm no está disponible, también se excluye del análisis\n",
        "df3_cleaned = df3.drop(['requested_test_kv', 'test_kv', 'ma', 'watts','pfm'], axis=1)"
      ],
      "id": "GE-Rf5xyxoal"
    },
    {
      "cell_type": "code",
      "execution_count": null,
      "metadata": {
        "colab": {
          "base_uri": "https://localhost:8080/"
        },
        "id": "lqw5gg2bOa-g",
        "outputId": "6908d389-3787-43f0-c9f1-5f72253cf54c"
      },
      "outputs": [
        {
          "output_type": "stream",
          "name": "stdout",
          "text": [
            "<class 'pandas.core.frame.DataFrame'>\n",
            "Int64Index: 55100 entries, 0 to 57544\n",
            "Data columns (total 8 columns):\n",
            " #   Column        Non-Null Count  Dtype  \n",
            "---  ------        --------------  -----  \n",
            " 0   serial        55100 non-null  object \n",
            " 1   fecha         55100 non-null  object \n",
            " 2   stator_kv     55100 non-null  float64\n",
            " 3   mfr           55100 non-null  object \n",
            " 4   group_number  55100 non-null  object \n",
            " 5   measured_cap  55100 non-null  float64\n",
            " 6   clave         55100 non-null  object \n",
            " 7   qual          55100 non-null  float64\n",
            "dtypes: float64(3), object(5)\n",
            "memory usage: 3.8+ MB\n"
          ]
        }
      ],
      "source": [
        "df3_cleaned.info()"
      ],
      "id": "lqw5gg2bOa-g"
    },
    {
      "cell_type": "code",
      "source": [
        "# Suponiendo que 'df3_cleaned' es tu DataFrame\n",
        "df3_cleaned.to_csv('df3_cleaned.csv', index=False)"
      ],
      "metadata": {
        "id": "pZXMccJk2T01"
      },
      "id": "pZXMccJk2T01",
      "execution_count": null,
      "outputs": []
    },
    {
      "cell_type": "code",
      "source": [
        "from google.colab import drive\n",
        "drive.mount('/content/drive')\n",
        "path = '/content/drive/My Drive/df3_cleaned.csv'\n"
      ],
      "metadata": {
        "colab": {
          "base_uri": "https://localhost:8080/"
        },
        "id": "6ecwxUya2Pg4",
        "outputId": "e4d53a15-d49e-46c1-a566-b381e629bfd7"
      },
      "id": "6ecwxUya2Pg4",
      "execution_count": null,
      "outputs": [
        {
          "output_type": "stream",
          "name": "stdout",
          "text": [
            "Mounted at /content/drive\n"
          ]
        }
      ]
    },
    {
      "cell_type": "code",
      "source": [
        "df3_cleaned.to_csv(path, index=False)"
      ],
      "metadata": {
        "id": "uc_dMnYt2XQ7"
      },
      "id": "uc_dMnYt2XQ7",
      "execution_count": null,
      "outputs": []
    },
    {
      "cell_type": "markdown",
      "metadata": {
        "id": "EMOs5IaDx7Gk"
      },
      "source": [
        "# Preprocesamiento de Datos para Modelado Supervisado"
      ],
      "id": "EMOs5IaDx7Gk"
    },
    {
      "cell_type": "code",
      "execution_count": null,
      "metadata": {
        "colab": {
          "base_uri": "https://localhost:8080/",
          "height": 35
        },
        "id": "if3xgm6fOTOH",
        "outputId": "b9915633-ab79-44c6-db2c-791246d2ec40"
      },
      "outputs": [
        {
          "output_type": "execute_result",
          "data": {
            "text/plain": [
              "'Datos preparados y listos para el modelado.'"
            ],
            "application/vnd.google.colaboratory.intrinsic+json": {
              "type": "string"
            }
          },
          "metadata": {},
          "execution_count": 15
        }
      ],
      "source": [
        "# Seleccionar las variables predictoras (X) y la variable objetivo (y)\n",
        "X = df3_cleaned.drop('qual', axis=1)\n",
        "y = df3_cleaned['qual']\n",
        "\n",
        "# Identificar las características numéricas y categóricas\n",
        "numeric_features = X.select_dtypes(include=['int64', 'float64']).columns\n",
        "categorical_features = X.select_dtypes(include=['object']).columns\n",
        "\n",
        "# Definir transformaciones para las características numéricas\n",
        "numeric_transformer = Pipeline(steps=[\n",
        "    ('imputer', SimpleImputer(strategy='median')),  # Imputar valores faltantes usando la mediana\n",
        "    ('scaler', StandardScaler())  # Estandarizar los valores numéricos para que tengan media cero y varianza unitaria\n",
        "])\n",
        "\n",
        "# Definir transformaciones para las características categóricas\n",
        "categorical_transformer = Pipeline(steps=[\n",
        "    ('imputer', SimpleImputer(strategy='constant', fill_value='missing')),  # Imputar valores faltantes con 'missing'\n",
        "    ('onehot', OneHotEncoder(handle_unknown='ignore'))  # Codificar variables categóricas con One-Hot Encoding\n",
        "])\n",
        "\n",
        "# Combinar las transformaciones en un preprocesador usando ColumnTransformer\n",
        "preprocessor = ColumnTransformer(\n",
        "    transformers=[\n",
        "        ('num', numeric_transformer, numeric_features),  # Aplicar transformaciones numéricas\n",
        "        ('cat', categorical_transformer, categorical_features)  # Aplicar transformaciones categóricas\n",
        "])\n",
        "\n",
        "# Dividir el conjunto de datos en conjuntos de entrenamiento y prueba\n",
        "X_train, X_test, y_train, y_test = train_test_split(X, y, test_size=0.3, random_state=42)\n",
        "\n",
        "# Imprimir mensaje indicando que los datos están listos para el modelado\n",
        "\"Datos preparados y listos para el modelado.\""
      ],
      "id": "if3xgm6fOTOH"
    },
    {
      "cell_type": "code",
      "execution_count": null,
      "metadata": {
        "id": "bJx_CtzYBPGC"
      },
      "outputs": [],
      "source": [
        "# Definir los modelos a utilizar\n",
        "models = {\n",
        "    \"Logistic Regression\": LogisticRegression(max_iter=1000),\n",
        "    \"K-Nearest Neighbors\": KNeighborsClassifier(),\n",
        "    \"Support Vector Machine\": SVC(probability=True),\n",
        "}\n"
      ],
      "id": "bJx_CtzYBPGC"
    },
    {
      "cell_type": "markdown",
      "metadata": {
        "id": "3ji-it9Gx_eA"
      },
      "source": [
        "#Función de entrenamiento y evaluación de los modelos"
      ],
      "id": "3ji-it9Gx_eA"
    },
    {
      "cell_type": "code",
      "execution_count": null,
      "metadata": {
        "id": "Z_nwKBNKWW0y"
      },
      "outputs": [],
      "source": [
        "def train_and_evaluate_model(model_name, X_train, X_test, y_train, y_test):\n",
        "    if model_name not in models:\n",
        "        print(f\"Modelo '{model_name}' no encontrado.\")\n",
        "        return\n",
        "\n",
        "    model = models[model_name]\n",
        "    pipeline = Pipeline(steps=[('preprocessor', preprocessor),\n",
        "                               ('classifier', model)])\n",
        "\n",
        "    # Ajustar el preprocesador y transformar los datos de entrenamiento y prueba\n",
        "    X_train_transformed = pipeline.named_steps['preprocessor'].fit_transform(X_train)\n",
        "    X_test_transformed = pipeline.named_steps['preprocessor'].transform(X_test)\n",
        "\n",
        "    # Entrenar y obtener probabilidades de clase (si está disponible)\n",
        "    if hasattr(model, 'predict_proba'):\n",
        "        model.fit(X_train_transformed, y_train)\n",
        "        y_pred_probabilities = model.predict_proba(X_test_transformed)\n",
        "    else:\n",
        "        # Si no hay predict_proba, utilizar predicciones directas\n",
        "        model.fit(X_train_transformed, y_train)\n",
        "        y_pred_probabilities = model.predict(X_test_transformed)\n",
        "\n",
        "    # Predecir las clases\n",
        "    y_pred = model.predict(X_test_transformed)\n",
        "\n",
        "    report = classification_report(y_test, y_pred)\n",
        "\n",
        "    print(f\"Resultados para {model_name}:\\n{report}\\n\")\n",
        "\n",
        "    # Calcular el AUC si el modelo devuelve probabilidades\n",
        "    if hasattr(model, 'predict_proba'):\n",
        "        auc = roc_auc_score(y_test, y_pred_probabilities, multi_class='ovr')\n",
        "        print(f\"AUC para el clasificador {model_name}: {auc}\\n\")\n",
        "\n",
        "    # Evaluar el modelo utilizando K-fold cross-validation\n",
        "    cv_results = cross_val_score(model, X_train_transformed, y_train, cv=5, scoring='accuracy')\n",
        "    mean_cv_accuracy = np.mean(cv_results)\n",
        "    print(f\"Accuracy promedio en K-fold cross-validation: {mean_cv_accuracy}\\n\")\n",
        "\n",
        "    return y_pred, X_test_transformed, report, mean_cv_accuracy"
      ],
      "id": "Z_nwKBNKWW0y"
    },
    {
      "cell_type": "markdown",
      "metadata": {
        "id": "R1TXJjxuyEna"
      },
      "source": [
        "#Función para graficar la curva ROC en un modelo Multiclase"
      ],
      "id": "R1TXJjxuyEna"
    },
    {
      "cell_type": "code",
      "execution_count": null,
      "metadata": {
        "id": "KTod0LHuWiTZ"
      },
      "outputs": [],
      "source": [
        "def plot_roc_curve_multiclass_from_probabilities(y_true, y_pred_probabilities):\n",
        "    # Convertir las etiquetas a su representación numérica\n",
        "    y_true_numeric = label_binarize(y_true, classes=np.unique(y_true))\n",
        "\n",
        "    # Inicializar el diccionario para almacenar las tasas de falsos positivos y verdaderos positivos\n",
        "    fpr_dict = {}\n",
        "    tpr_dict = {}\n",
        "    auc_dict = {}\n",
        "\n",
        "    # Obtener el número de clases\n",
        "    n_classes = y_true_numeric.shape[1]\n",
        "\n",
        "    # Calcular las tasas de falsos positivos y verdaderos positivos para cada clase\n",
        "    for i in range(n_classes):\n",
        "        fpr_dict[i], tpr_dict[i], _ = roc_curve(y_true_numeric[:, i], y_pred_probabilities[:, i])\n",
        "        auc_dict[i] = auc(fpr_dict[i], tpr_dict[i])\n",
        "\n",
        "    # Calcular el micro promedio de ROC-AUC\n",
        "    fpr_micro, tpr_micro, _ = roc_curve(y_true_numeric.ravel(), y_pred_probabilities.ravel())\n",
        "    auc_micro = auc(fpr_micro, tpr_micro)\n",
        "\n",
        "    # Calcular el macro promedio de ROC-AUC\n",
        "    all_fpr = np.unique(np.concatenate([fpr_dict[i] for i in range(n_classes)]))\n",
        "    mean_tpr = np.zeros_like(all_fpr)\n",
        "    for i in range(n_classes):\n",
        "        mean_tpr += np.interp(all_fpr, fpr_dict[i], tpr_dict[i])\n",
        "    mean_tpr /= n_classes\n",
        "    fpr_macro = all_fpr\n",
        "    tpr_macro = mean_tpr\n",
        "    auc_macro = auc(fpr_macro, tpr_macro)\n",
        "\n",
        "    # Plotear la curva ROC para cada clase\n",
        "    plt.figure(figsize=(10, 6))\n",
        "    plt.plot(fpr_micro, tpr_micro, label=f'Micro-average ROC curve (AUC = {auc_micro:.2f})', color='deeppink', linestyle=':', linewidth=4)\n",
        "    plt.plot(fpr_macro, tpr_macro, label=f'Macro-average ROC curve (AUC = {auc_macro:.2f})', color='navy', linestyle=':', linewidth=4)\n",
        "\n",
        "    for i in range(n_classes):\n",
        "        plt.plot(fpr_dict[i], tpr_dict[i], label=f'Class {i} (AUC = {auc_dict[i]:.2f})')\n",
        "\n",
        "    plt.plot([0, 1], [0, 1], 'k--', linewidth=2)\n",
        "    plt.xlim([0.0, 1.0])\n",
        "    plt.ylim([0.0, 1.05])\n",
        "    plt.xlabel('False Positive Rate')\n",
        "    plt.ylabel('True Positive Rate')\n",
        "    plt.title('ROC Curve for Multiclass Classification')\n",
        "    plt.legend(loc=\"lower right\")\n",
        "    plt.show()"
      ],
      "id": "KTod0LHuWiTZ"
    },
    {
      "cell_type": "code",
      "execution_count": null,
      "metadata": {
        "colab": {
          "base_uri": "https://localhost:8080/",
          "height": 668
        },
        "id": "ymP96KfCat8_",
        "outputId": "295576e7-b7f0-4084-e469-2e6158e63d04"
      },
      "outputs": [
        {
          "output_type": "stream",
          "name": "stdout",
          "text": [
            "Resultados para Logistic Regression:\n",
            "              precision    recall  f1-score   support\n",
            "\n",
            "         0.0       0.96      0.94      0.95      3158\n",
            "         1.0       0.95      0.96      0.96      5024\n",
            "         2.0       0.93      0.97      0.95      4624\n",
            "         3.0       0.98      0.93      0.95      3724\n",
            "\n",
            "    accuracy                           0.95     16530\n",
            "   macro avg       0.96      0.95      0.95     16530\n",
            "weighted avg       0.95      0.95      0.95     16530\n",
            "\n",
            "\n",
            "AUC para el clasificador Logistic Regression: 0.9947722717720671\n",
            "\n"
          ]
        },
        {
          "output_type": "error",
          "ename": "KeyboardInterrupt",
          "evalue": "ignored",
          "traceback": [
            "\u001b[0;31m---------------------------------------------------------------------------\u001b[0m",
            "\u001b[0;31mKeyboardInterrupt\u001b[0m                         Traceback (most recent call last)",
            "\u001b[0;32m<ipython-input-19-ec6b27e92ea0>\u001b[0m in \u001b[0;36m<cell line: 3>\u001b[0;34m()\u001b[0m\n\u001b[1;32m      1\u001b[0m \u001b[0mmodel_name\u001b[0m \u001b[0;34m=\u001b[0m \u001b[0;34m\"Logistic Regression\"\u001b[0m  \u001b[0;31m# Reemplazar con el nombre del modelo que estás evaluando\u001b[0m\u001b[0;34m\u001b[0m\u001b[0;34m\u001b[0m\u001b[0m\n\u001b[1;32m      2\u001b[0m \u001b[0mmodel\u001b[0m \u001b[0;34m=\u001b[0m \u001b[0mmodels\u001b[0m\u001b[0;34m[\u001b[0m\u001b[0mmodel_name\u001b[0m\u001b[0;34m]\u001b[0m\u001b[0;34m\u001b[0m\u001b[0;34m\u001b[0m\u001b[0m\n\u001b[0;32m----> 3\u001b[0;31m \u001b[0my_pred\u001b[0m\u001b[0;34m,\u001b[0m \u001b[0mX_test_transformed\u001b[0m\u001b[0;34m,\u001b[0m \u001b[0mreport\u001b[0m\u001b[0;34m,\u001b[0m \u001b[0mcv_results\u001b[0m \u001b[0;34m=\u001b[0m \u001b[0mtrain_and_evaluate_model\u001b[0m\u001b[0;34m(\u001b[0m\u001b[0mmodel_name\u001b[0m\u001b[0;34m,\u001b[0m \u001b[0mX_train\u001b[0m\u001b[0;34m,\u001b[0m \u001b[0mX_test\u001b[0m\u001b[0;34m,\u001b[0m \u001b[0my_train\u001b[0m\u001b[0;34m,\u001b[0m \u001b[0my_test\u001b[0m\u001b[0;34m)\u001b[0m\u001b[0;34m\u001b[0m\u001b[0;34m\u001b[0m\u001b[0m\n\u001b[0m\u001b[1;32m      4\u001b[0m \u001b[0;34m\u001b[0m\u001b[0m\n\u001b[1;32m      5\u001b[0m \u001b[0my_pred_probabilities\u001b[0m \u001b[0;34m=\u001b[0m \u001b[0mmodel\u001b[0m\u001b[0;34m.\u001b[0m\u001b[0mpredict_proba\u001b[0m\u001b[0;34m(\u001b[0m\u001b[0mX_test_transformed\u001b[0m\u001b[0;34m)\u001b[0m\u001b[0;34m\u001b[0m\u001b[0;34m\u001b[0m\u001b[0m\n",
            "\u001b[0;32m<ipython-input-17-b693155660d0>\u001b[0m in \u001b[0;36mtrain_and_evaluate_model\u001b[0;34m(model_name, X_train, X_test, y_train, y_test)\u001b[0m\n\u001b[1;32m     34\u001b[0m \u001b[0;34m\u001b[0m\u001b[0m\n\u001b[1;32m     35\u001b[0m     \u001b[0;31m# Evaluar el modelo utilizando K-fold cross-validation\u001b[0m\u001b[0;34m\u001b[0m\u001b[0;34m\u001b[0m\u001b[0m\n\u001b[0;32m---> 36\u001b[0;31m     \u001b[0mcv_results\u001b[0m \u001b[0;34m=\u001b[0m \u001b[0mcross_val_score\u001b[0m\u001b[0;34m(\u001b[0m\u001b[0mmodel\u001b[0m\u001b[0;34m,\u001b[0m \u001b[0mX_train_transformed\u001b[0m\u001b[0;34m,\u001b[0m \u001b[0my_train\u001b[0m\u001b[0;34m,\u001b[0m \u001b[0mcv\u001b[0m\u001b[0;34m=\u001b[0m\u001b[0;36m5\u001b[0m\u001b[0;34m,\u001b[0m \u001b[0mscoring\u001b[0m\u001b[0;34m=\u001b[0m\u001b[0;34m'accuracy'\u001b[0m\u001b[0;34m)\u001b[0m\u001b[0;34m\u001b[0m\u001b[0;34m\u001b[0m\u001b[0m\n\u001b[0m\u001b[1;32m     37\u001b[0m     \u001b[0mmean_cv_accuracy\u001b[0m \u001b[0;34m=\u001b[0m \u001b[0mnp\u001b[0m\u001b[0;34m.\u001b[0m\u001b[0mmean\u001b[0m\u001b[0;34m(\u001b[0m\u001b[0mcv_results\u001b[0m\u001b[0;34m)\u001b[0m\u001b[0;34m\u001b[0m\u001b[0;34m\u001b[0m\u001b[0m\n\u001b[1;32m     38\u001b[0m     \u001b[0mprint\u001b[0m\u001b[0;34m(\u001b[0m\u001b[0;34mf\"Accuracy promedio en K-fold cross-validation: {mean_cv_accuracy}\\n\"\u001b[0m\u001b[0;34m)\u001b[0m\u001b[0;34m\u001b[0m\u001b[0;34m\u001b[0m\u001b[0m\n",
            "\u001b[0;32m/usr/local/lib/python3.10/dist-packages/sklearn/model_selection/_validation.py\u001b[0m in \u001b[0;36mcross_val_score\u001b[0;34m(estimator, X, y, groups, scoring, cv, n_jobs, verbose, fit_params, pre_dispatch, error_score)\u001b[0m\n\u001b[1;32m    513\u001b[0m     \u001b[0mscorer\u001b[0m \u001b[0;34m=\u001b[0m \u001b[0mcheck_scoring\u001b[0m\u001b[0;34m(\u001b[0m\u001b[0mestimator\u001b[0m\u001b[0;34m,\u001b[0m \u001b[0mscoring\u001b[0m\u001b[0;34m=\u001b[0m\u001b[0mscoring\u001b[0m\u001b[0;34m)\u001b[0m\u001b[0;34m\u001b[0m\u001b[0;34m\u001b[0m\u001b[0m\n\u001b[1;32m    514\u001b[0m \u001b[0;34m\u001b[0m\u001b[0m\n\u001b[0;32m--> 515\u001b[0;31m     cv_results = cross_validate(\n\u001b[0m\u001b[1;32m    516\u001b[0m         \u001b[0mestimator\u001b[0m\u001b[0;34m=\u001b[0m\u001b[0mestimator\u001b[0m\u001b[0;34m,\u001b[0m\u001b[0;34m\u001b[0m\u001b[0;34m\u001b[0m\u001b[0m\n\u001b[1;32m    517\u001b[0m         \u001b[0mX\u001b[0m\u001b[0;34m=\u001b[0m\u001b[0mX\u001b[0m\u001b[0;34m,\u001b[0m\u001b[0;34m\u001b[0m\u001b[0;34m\u001b[0m\u001b[0m\n",
            "\u001b[0;32m/usr/local/lib/python3.10/dist-packages/sklearn/model_selection/_validation.py\u001b[0m in \u001b[0;36mcross_validate\u001b[0;34m(estimator, X, y, groups, scoring, cv, n_jobs, verbose, fit_params, pre_dispatch, return_train_score, return_estimator, error_score)\u001b[0m\n\u001b[1;32m    264\u001b[0m     \u001b[0;31m# independent, and that it is pickle-able.\u001b[0m\u001b[0;34m\u001b[0m\u001b[0;34m\u001b[0m\u001b[0m\n\u001b[1;32m    265\u001b[0m     \u001b[0mparallel\u001b[0m \u001b[0;34m=\u001b[0m \u001b[0mParallel\u001b[0m\u001b[0;34m(\u001b[0m\u001b[0mn_jobs\u001b[0m\u001b[0;34m=\u001b[0m\u001b[0mn_jobs\u001b[0m\u001b[0;34m,\u001b[0m \u001b[0mverbose\u001b[0m\u001b[0;34m=\u001b[0m\u001b[0mverbose\u001b[0m\u001b[0;34m,\u001b[0m \u001b[0mpre_dispatch\u001b[0m\u001b[0;34m=\u001b[0m\u001b[0mpre_dispatch\u001b[0m\u001b[0;34m)\u001b[0m\u001b[0;34m\u001b[0m\u001b[0;34m\u001b[0m\u001b[0m\n\u001b[0;32m--> 266\u001b[0;31m     results = parallel(\n\u001b[0m\u001b[1;32m    267\u001b[0m         delayed(_fit_and_score)(\n\u001b[1;32m    268\u001b[0m             \u001b[0mclone\u001b[0m\u001b[0;34m(\u001b[0m\u001b[0mestimator\u001b[0m\u001b[0;34m)\u001b[0m\u001b[0;34m,\u001b[0m\u001b[0;34m\u001b[0m\u001b[0;34m\u001b[0m\u001b[0m\n",
            "\u001b[0;32m/usr/local/lib/python3.10/dist-packages/sklearn/utils/parallel.py\u001b[0m in \u001b[0;36m__call__\u001b[0;34m(self, iterable)\u001b[0m\n\u001b[1;32m     61\u001b[0m             \u001b[0;32mfor\u001b[0m \u001b[0mdelayed_func\u001b[0m\u001b[0;34m,\u001b[0m \u001b[0margs\u001b[0m\u001b[0;34m,\u001b[0m \u001b[0mkwargs\u001b[0m \u001b[0;32min\u001b[0m \u001b[0miterable\u001b[0m\u001b[0;34m\u001b[0m\u001b[0;34m\u001b[0m\u001b[0m\n\u001b[1;32m     62\u001b[0m         )\n\u001b[0;32m---> 63\u001b[0;31m         \u001b[0;32mreturn\u001b[0m \u001b[0msuper\u001b[0m\u001b[0;34m(\u001b[0m\u001b[0;34m)\u001b[0m\u001b[0;34m.\u001b[0m\u001b[0m__call__\u001b[0m\u001b[0;34m(\u001b[0m\u001b[0miterable_with_config\u001b[0m\u001b[0;34m)\u001b[0m\u001b[0;34m\u001b[0m\u001b[0;34m\u001b[0m\u001b[0m\n\u001b[0m\u001b[1;32m     64\u001b[0m \u001b[0;34m\u001b[0m\u001b[0m\n\u001b[1;32m     65\u001b[0m \u001b[0;34m\u001b[0m\u001b[0m\n",
            "\u001b[0;32m/usr/local/lib/python3.10/dist-packages/joblib/parallel.py\u001b[0m in \u001b[0;36m__call__\u001b[0;34m(self, iterable)\u001b[0m\n\u001b[1;32m   1861\u001b[0m             \u001b[0moutput\u001b[0m \u001b[0;34m=\u001b[0m \u001b[0mself\u001b[0m\u001b[0;34m.\u001b[0m\u001b[0m_get_sequential_output\u001b[0m\u001b[0;34m(\u001b[0m\u001b[0miterable\u001b[0m\u001b[0;34m)\u001b[0m\u001b[0;34m\u001b[0m\u001b[0;34m\u001b[0m\u001b[0m\n\u001b[1;32m   1862\u001b[0m             \u001b[0mnext\u001b[0m\u001b[0;34m(\u001b[0m\u001b[0moutput\u001b[0m\u001b[0;34m)\u001b[0m\u001b[0;34m\u001b[0m\u001b[0;34m\u001b[0m\u001b[0m\n\u001b[0;32m-> 1863\u001b[0;31m             \u001b[0;32mreturn\u001b[0m \u001b[0moutput\u001b[0m \u001b[0;32mif\u001b[0m \u001b[0mself\u001b[0m\u001b[0;34m.\u001b[0m\u001b[0mreturn_generator\u001b[0m \u001b[0;32melse\u001b[0m \u001b[0mlist\u001b[0m\u001b[0;34m(\u001b[0m\u001b[0moutput\u001b[0m\u001b[0;34m)\u001b[0m\u001b[0;34m\u001b[0m\u001b[0;34m\u001b[0m\u001b[0m\n\u001b[0m\u001b[1;32m   1864\u001b[0m \u001b[0;34m\u001b[0m\u001b[0m\n\u001b[1;32m   1865\u001b[0m         \u001b[0;31m# Let's create an ID that uniquely identifies the current call. If the\u001b[0m\u001b[0;34m\u001b[0m\u001b[0;34m\u001b[0m\u001b[0m\n",
            "\u001b[0;32m/usr/local/lib/python3.10/dist-packages/joblib/parallel.py\u001b[0m in \u001b[0;36m_get_sequential_output\u001b[0;34m(self, iterable)\u001b[0m\n\u001b[1;32m   1790\u001b[0m                 \u001b[0mself\u001b[0m\u001b[0;34m.\u001b[0m\u001b[0mn_dispatched_batches\u001b[0m \u001b[0;34m+=\u001b[0m \u001b[0;36m1\u001b[0m\u001b[0;34m\u001b[0m\u001b[0;34m\u001b[0m\u001b[0m\n\u001b[1;32m   1791\u001b[0m                 \u001b[0mself\u001b[0m\u001b[0;34m.\u001b[0m\u001b[0mn_dispatched_tasks\u001b[0m \u001b[0;34m+=\u001b[0m \u001b[0;36m1\u001b[0m\u001b[0;34m\u001b[0m\u001b[0;34m\u001b[0m\u001b[0m\n\u001b[0;32m-> 1792\u001b[0;31m                 \u001b[0mres\u001b[0m \u001b[0;34m=\u001b[0m \u001b[0mfunc\u001b[0m\u001b[0;34m(\u001b[0m\u001b[0;34m*\u001b[0m\u001b[0margs\u001b[0m\u001b[0;34m,\u001b[0m \u001b[0;34m**\u001b[0m\u001b[0mkwargs\u001b[0m\u001b[0;34m)\u001b[0m\u001b[0;34m\u001b[0m\u001b[0;34m\u001b[0m\u001b[0m\n\u001b[0m\u001b[1;32m   1793\u001b[0m                 \u001b[0mself\u001b[0m\u001b[0;34m.\u001b[0m\u001b[0mn_completed_tasks\u001b[0m \u001b[0;34m+=\u001b[0m \u001b[0;36m1\u001b[0m\u001b[0;34m\u001b[0m\u001b[0;34m\u001b[0m\u001b[0m\n\u001b[1;32m   1794\u001b[0m                 \u001b[0mself\u001b[0m\u001b[0;34m.\u001b[0m\u001b[0mprint_progress\u001b[0m\u001b[0;34m(\u001b[0m\u001b[0;34m)\u001b[0m\u001b[0;34m\u001b[0m\u001b[0;34m\u001b[0m\u001b[0m\n",
            "\u001b[0;32m/usr/local/lib/python3.10/dist-packages/sklearn/utils/parallel.py\u001b[0m in \u001b[0;36m__call__\u001b[0;34m(self, *args, **kwargs)\u001b[0m\n\u001b[1;32m    121\u001b[0m             \u001b[0mconfig\u001b[0m \u001b[0;34m=\u001b[0m \u001b[0;34m{\u001b[0m\u001b[0;34m}\u001b[0m\u001b[0;34m\u001b[0m\u001b[0;34m\u001b[0m\u001b[0m\n\u001b[1;32m    122\u001b[0m         \u001b[0;32mwith\u001b[0m \u001b[0mconfig_context\u001b[0m\u001b[0;34m(\u001b[0m\u001b[0;34m**\u001b[0m\u001b[0mconfig\u001b[0m\u001b[0;34m)\u001b[0m\u001b[0;34m:\u001b[0m\u001b[0;34m\u001b[0m\u001b[0;34m\u001b[0m\u001b[0m\n\u001b[0;32m--> 123\u001b[0;31m             \u001b[0;32mreturn\u001b[0m \u001b[0mself\u001b[0m\u001b[0;34m.\u001b[0m\u001b[0mfunction\u001b[0m\u001b[0;34m(\u001b[0m\u001b[0;34m*\u001b[0m\u001b[0margs\u001b[0m\u001b[0;34m,\u001b[0m \u001b[0;34m**\u001b[0m\u001b[0mkwargs\u001b[0m\u001b[0;34m)\u001b[0m\u001b[0;34m\u001b[0m\u001b[0;34m\u001b[0m\u001b[0m\n\u001b[0m",
            "\u001b[0;32m/usr/local/lib/python3.10/dist-packages/sklearn/model_selection/_validation.py\u001b[0m in \u001b[0;36m_fit_and_score\u001b[0;34m(estimator, X, y, scorer, train, test, verbose, parameters, fit_params, return_train_score, return_parameters, return_n_test_samples, return_times, return_estimator, split_progress, candidate_progress, error_score)\u001b[0m\n\u001b[1;32m    684\u001b[0m             \u001b[0mestimator\u001b[0m\u001b[0;34m.\u001b[0m\u001b[0mfit\u001b[0m\u001b[0;34m(\u001b[0m\u001b[0mX_train\u001b[0m\u001b[0;34m,\u001b[0m \u001b[0;34m**\u001b[0m\u001b[0mfit_params\u001b[0m\u001b[0;34m)\u001b[0m\u001b[0;34m\u001b[0m\u001b[0;34m\u001b[0m\u001b[0m\n\u001b[1;32m    685\u001b[0m         \u001b[0;32melse\u001b[0m\u001b[0;34m:\u001b[0m\u001b[0;34m\u001b[0m\u001b[0;34m\u001b[0m\u001b[0m\n\u001b[0;32m--> 686\u001b[0;31m             \u001b[0mestimator\u001b[0m\u001b[0;34m.\u001b[0m\u001b[0mfit\u001b[0m\u001b[0;34m(\u001b[0m\u001b[0mX_train\u001b[0m\u001b[0;34m,\u001b[0m \u001b[0my_train\u001b[0m\u001b[0;34m,\u001b[0m \u001b[0;34m**\u001b[0m\u001b[0mfit_params\u001b[0m\u001b[0;34m)\u001b[0m\u001b[0;34m\u001b[0m\u001b[0;34m\u001b[0m\u001b[0m\n\u001b[0m\u001b[1;32m    687\u001b[0m \u001b[0;34m\u001b[0m\u001b[0m\n\u001b[1;32m    688\u001b[0m     \u001b[0;32mexcept\u001b[0m \u001b[0mException\u001b[0m\u001b[0;34m:\u001b[0m\u001b[0;34m\u001b[0m\u001b[0;34m\u001b[0m\u001b[0m\n",
            "\u001b[0;32m/usr/local/lib/python3.10/dist-packages/sklearn/linear_model/_logistic.py\u001b[0m in \u001b[0;36mfit\u001b[0;34m(self, X, y, sample_weight)\u001b[0m\n\u001b[1;32m   1289\u001b[0m             \u001b[0mn_threads\u001b[0m \u001b[0;34m=\u001b[0m \u001b[0;36m1\u001b[0m\u001b[0;34m\u001b[0m\u001b[0;34m\u001b[0m\u001b[0m\n\u001b[1;32m   1290\u001b[0m \u001b[0;34m\u001b[0m\u001b[0m\n\u001b[0;32m-> 1291\u001b[0;31m         fold_coefs_ = Parallel(n_jobs=self.n_jobs, verbose=self.verbose, prefer=prefer)(\n\u001b[0m\u001b[1;32m   1292\u001b[0m             path_func(\n\u001b[1;32m   1293\u001b[0m                 \u001b[0mX\u001b[0m\u001b[0;34m,\u001b[0m\u001b[0;34m\u001b[0m\u001b[0;34m\u001b[0m\u001b[0m\n",
            "\u001b[0;32m/usr/local/lib/python3.10/dist-packages/sklearn/utils/parallel.py\u001b[0m in \u001b[0;36m__call__\u001b[0;34m(self, iterable)\u001b[0m\n\u001b[1;32m     61\u001b[0m             \u001b[0;32mfor\u001b[0m \u001b[0mdelayed_func\u001b[0m\u001b[0;34m,\u001b[0m \u001b[0margs\u001b[0m\u001b[0;34m,\u001b[0m \u001b[0mkwargs\u001b[0m \u001b[0;32min\u001b[0m \u001b[0miterable\u001b[0m\u001b[0;34m\u001b[0m\u001b[0;34m\u001b[0m\u001b[0m\n\u001b[1;32m     62\u001b[0m         )\n\u001b[0;32m---> 63\u001b[0;31m         \u001b[0;32mreturn\u001b[0m \u001b[0msuper\u001b[0m\u001b[0;34m(\u001b[0m\u001b[0;34m)\u001b[0m\u001b[0;34m.\u001b[0m\u001b[0m__call__\u001b[0m\u001b[0;34m(\u001b[0m\u001b[0miterable_with_config\u001b[0m\u001b[0;34m)\u001b[0m\u001b[0;34m\u001b[0m\u001b[0;34m\u001b[0m\u001b[0m\n\u001b[0m\u001b[1;32m     64\u001b[0m \u001b[0;34m\u001b[0m\u001b[0m\n\u001b[1;32m     65\u001b[0m \u001b[0;34m\u001b[0m\u001b[0m\n",
            "\u001b[0;32m/usr/local/lib/python3.10/dist-packages/joblib/parallel.py\u001b[0m in \u001b[0;36m__call__\u001b[0;34m(self, iterable)\u001b[0m\n\u001b[1;32m   1861\u001b[0m             \u001b[0moutput\u001b[0m \u001b[0;34m=\u001b[0m \u001b[0mself\u001b[0m\u001b[0;34m.\u001b[0m\u001b[0m_get_sequential_output\u001b[0m\u001b[0;34m(\u001b[0m\u001b[0miterable\u001b[0m\u001b[0;34m)\u001b[0m\u001b[0;34m\u001b[0m\u001b[0;34m\u001b[0m\u001b[0m\n\u001b[1;32m   1862\u001b[0m             \u001b[0mnext\u001b[0m\u001b[0;34m(\u001b[0m\u001b[0moutput\u001b[0m\u001b[0;34m)\u001b[0m\u001b[0;34m\u001b[0m\u001b[0;34m\u001b[0m\u001b[0m\n\u001b[0;32m-> 1863\u001b[0;31m             \u001b[0;32mreturn\u001b[0m \u001b[0moutput\u001b[0m \u001b[0;32mif\u001b[0m \u001b[0mself\u001b[0m\u001b[0;34m.\u001b[0m\u001b[0mreturn_generator\u001b[0m \u001b[0;32melse\u001b[0m \u001b[0mlist\u001b[0m\u001b[0;34m(\u001b[0m\u001b[0moutput\u001b[0m\u001b[0;34m)\u001b[0m\u001b[0;34m\u001b[0m\u001b[0;34m\u001b[0m\u001b[0m\n\u001b[0m\u001b[1;32m   1864\u001b[0m \u001b[0;34m\u001b[0m\u001b[0m\n\u001b[1;32m   1865\u001b[0m         \u001b[0;31m# Let's create an ID that uniquely identifies the current call. If the\u001b[0m\u001b[0;34m\u001b[0m\u001b[0;34m\u001b[0m\u001b[0m\n",
            "\u001b[0;32m/usr/local/lib/python3.10/dist-packages/joblib/parallel.py\u001b[0m in \u001b[0;36m_get_sequential_output\u001b[0;34m(self, iterable)\u001b[0m\n\u001b[1;32m   1790\u001b[0m                 \u001b[0mself\u001b[0m\u001b[0;34m.\u001b[0m\u001b[0mn_dispatched_batches\u001b[0m \u001b[0;34m+=\u001b[0m \u001b[0;36m1\u001b[0m\u001b[0;34m\u001b[0m\u001b[0;34m\u001b[0m\u001b[0m\n\u001b[1;32m   1791\u001b[0m                 \u001b[0mself\u001b[0m\u001b[0;34m.\u001b[0m\u001b[0mn_dispatched_tasks\u001b[0m \u001b[0;34m+=\u001b[0m \u001b[0;36m1\u001b[0m\u001b[0;34m\u001b[0m\u001b[0;34m\u001b[0m\u001b[0m\n\u001b[0;32m-> 1792\u001b[0;31m                 \u001b[0mres\u001b[0m \u001b[0;34m=\u001b[0m \u001b[0mfunc\u001b[0m\u001b[0;34m(\u001b[0m\u001b[0;34m*\u001b[0m\u001b[0margs\u001b[0m\u001b[0;34m,\u001b[0m \u001b[0;34m**\u001b[0m\u001b[0mkwargs\u001b[0m\u001b[0;34m)\u001b[0m\u001b[0;34m\u001b[0m\u001b[0;34m\u001b[0m\u001b[0m\n\u001b[0m\u001b[1;32m   1793\u001b[0m                 \u001b[0mself\u001b[0m\u001b[0;34m.\u001b[0m\u001b[0mn_completed_tasks\u001b[0m \u001b[0;34m+=\u001b[0m \u001b[0;36m1\u001b[0m\u001b[0;34m\u001b[0m\u001b[0;34m\u001b[0m\u001b[0m\n\u001b[1;32m   1794\u001b[0m                 \u001b[0mself\u001b[0m\u001b[0;34m.\u001b[0m\u001b[0mprint_progress\u001b[0m\u001b[0;34m(\u001b[0m\u001b[0;34m)\u001b[0m\u001b[0;34m\u001b[0m\u001b[0;34m\u001b[0m\u001b[0m\n",
            "\u001b[0;32m/usr/local/lib/python3.10/dist-packages/sklearn/utils/parallel.py\u001b[0m in \u001b[0;36m__call__\u001b[0;34m(self, *args, **kwargs)\u001b[0m\n\u001b[1;32m    121\u001b[0m             \u001b[0mconfig\u001b[0m \u001b[0;34m=\u001b[0m \u001b[0;34m{\u001b[0m\u001b[0;34m}\u001b[0m\u001b[0;34m\u001b[0m\u001b[0;34m\u001b[0m\u001b[0m\n\u001b[1;32m    122\u001b[0m         \u001b[0;32mwith\u001b[0m \u001b[0mconfig_context\u001b[0m\u001b[0;34m(\u001b[0m\u001b[0;34m**\u001b[0m\u001b[0mconfig\u001b[0m\u001b[0;34m)\u001b[0m\u001b[0;34m:\u001b[0m\u001b[0;34m\u001b[0m\u001b[0;34m\u001b[0m\u001b[0m\n\u001b[0;32m--> 123\u001b[0;31m             \u001b[0;32mreturn\u001b[0m \u001b[0mself\u001b[0m\u001b[0;34m.\u001b[0m\u001b[0mfunction\u001b[0m\u001b[0;34m(\u001b[0m\u001b[0;34m*\u001b[0m\u001b[0margs\u001b[0m\u001b[0;34m,\u001b[0m \u001b[0;34m**\u001b[0m\u001b[0mkwargs\u001b[0m\u001b[0;34m)\u001b[0m\u001b[0;34m\u001b[0m\u001b[0;34m\u001b[0m\u001b[0m\n\u001b[0m",
            "\u001b[0;32m/usr/local/lib/python3.10/dist-packages/sklearn/linear_model/_logistic.py\u001b[0m in \u001b[0;36m_logistic_regression_path\u001b[0;34m(X, y, pos_class, Cs, fit_intercept, max_iter, tol, verbose, solver, coef, class_weight, dual, penalty, intercept_scaling, multi_class, random_state, check_input, max_squared_sum, sample_weight, l1_ratio, n_threads)\u001b[0m\n\u001b[1;32m    448\u001b[0m                 \u001b[0mnp\u001b[0m\u001b[0;34m.\u001b[0m\u001b[0msearchsorted\u001b[0m\u001b[0;34m(\u001b[0m\u001b[0mnp\u001b[0m\u001b[0;34m.\u001b[0m\u001b[0marray\u001b[0m\u001b[0;34m(\u001b[0m\u001b[0;34m[\u001b[0m\u001b[0;36m0\u001b[0m\u001b[0;34m,\u001b[0m \u001b[0;36m1\u001b[0m\u001b[0;34m,\u001b[0m \u001b[0;36m2\u001b[0m\u001b[0;34m,\u001b[0m \u001b[0;36m3\u001b[0m\u001b[0;34m]\u001b[0m\u001b[0;34m)\u001b[0m\u001b[0;34m,\u001b[0m \u001b[0mverbose\u001b[0m\u001b[0;34m)\u001b[0m\u001b[0;34m\u001b[0m\u001b[0;34m\u001b[0m\u001b[0m\n\u001b[1;32m    449\u001b[0m             ]\n\u001b[0;32m--> 450\u001b[0;31m             opt_res = optimize.minimize(\n\u001b[0m\u001b[1;32m    451\u001b[0m                 \u001b[0mfunc\u001b[0m\u001b[0;34m,\u001b[0m\u001b[0;34m\u001b[0m\u001b[0;34m\u001b[0m\u001b[0m\n\u001b[1;32m    452\u001b[0m                 \u001b[0mw0\u001b[0m\u001b[0;34m,\u001b[0m\u001b[0;34m\u001b[0m\u001b[0;34m\u001b[0m\u001b[0m\n",
            "\u001b[0;32m/usr/local/lib/python3.10/dist-packages/scipy/optimize/_minimize.py\u001b[0m in \u001b[0;36mminimize\u001b[0;34m(fun, x0, args, method, jac, hess, hessp, bounds, constraints, tol, callback, options)\u001b[0m\n\u001b[1;32m    708\u001b[0m                                  **options)\n\u001b[1;32m    709\u001b[0m     \u001b[0;32melif\u001b[0m \u001b[0mmeth\u001b[0m \u001b[0;34m==\u001b[0m \u001b[0;34m'l-bfgs-b'\u001b[0m\u001b[0;34m:\u001b[0m\u001b[0;34m\u001b[0m\u001b[0;34m\u001b[0m\u001b[0m\n\u001b[0;32m--> 710\u001b[0;31m         res = _minimize_lbfgsb(fun, x0, args, jac, bounds,\n\u001b[0m\u001b[1;32m    711\u001b[0m                                callback=callback, **options)\n\u001b[1;32m    712\u001b[0m     \u001b[0;32melif\u001b[0m \u001b[0mmeth\u001b[0m \u001b[0;34m==\u001b[0m \u001b[0;34m'tnc'\u001b[0m\u001b[0;34m:\u001b[0m\u001b[0;34m\u001b[0m\u001b[0;34m\u001b[0m\u001b[0m\n",
            "\u001b[0;32m/usr/local/lib/python3.10/dist-packages/scipy/optimize/_lbfgsb_py.py\u001b[0m in \u001b[0;36m_minimize_lbfgsb\u001b[0;34m(fun, x0, args, jac, bounds, disp, maxcor, ftol, gtol, eps, maxfun, maxiter, iprint, callback, maxls, finite_diff_rel_step, **unknown_options)\u001b[0m\n\u001b[1;32m    354\u001b[0m         \u001b[0mg\u001b[0m \u001b[0;34m=\u001b[0m \u001b[0mg\u001b[0m\u001b[0;34m.\u001b[0m\u001b[0mastype\u001b[0m\u001b[0;34m(\u001b[0m\u001b[0mnp\u001b[0m\u001b[0;34m.\u001b[0m\u001b[0mfloat64\u001b[0m\u001b[0;34m)\u001b[0m\u001b[0;34m\u001b[0m\u001b[0;34m\u001b[0m\u001b[0m\n\u001b[1;32m    355\u001b[0m         \u001b[0;31m# x, f, g, wa, iwa, task, csave, lsave, isave, dsave = \\\u001b[0m\u001b[0;34m\u001b[0m\u001b[0;34m\u001b[0m\u001b[0m\n\u001b[0;32m--> 356\u001b[0;31m         _lbfgsb.setulb(m, x, low_bnd, upper_bnd, nbd, f, g, factr,\n\u001b[0m\u001b[1;32m    357\u001b[0m                        \u001b[0mpgtol\u001b[0m\u001b[0;34m,\u001b[0m \u001b[0mwa\u001b[0m\u001b[0;34m,\u001b[0m \u001b[0miwa\u001b[0m\u001b[0;34m,\u001b[0m \u001b[0mtask\u001b[0m\u001b[0;34m,\u001b[0m \u001b[0miprint\u001b[0m\u001b[0;34m,\u001b[0m \u001b[0mcsave\u001b[0m\u001b[0;34m,\u001b[0m \u001b[0mlsave\u001b[0m\u001b[0;34m,\u001b[0m\u001b[0;34m\u001b[0m\u001b[0;34m\u001b[0m\u001b[0m\n\u001b[1;32m    358\u001b[0m                        isave, dsave, maxls)\n",
            "\u001b[0;31mKeyboardInterrupt\u001b[0m: "
          ]
        }
      ],
      "source": [
        "model_name = \"Logistic Regression\"  # Reemplazar con el nombre del modelo que estás evaluando\n",
        "model = models[model_name]\n",
        "y_pred, X_test_transformed, report, cv_results = train_and_evaluate_model(model_name, X_train, X_test, y_train, y_test)\n",
        "\n",
        "y_pred_probabilities = model.predict_proba(X_test_transformed)\n",
        "plot_roc_curve_multiclass_from_probabilities(y_test, y_pred_probabilities)"
      ],
      "id": "ymP96KfCat8_"
    },
    {
      "cell_type": "code",
      "execution_count": null,
      "metadata": {
        "colab": {
          "base_uri": "https://localhost:8080/",
          "height": 859
        },
        "id": "uKSXbHXqTdDz",
        "outputId": "700eec97-c715-4cef-c7ef-c871a663730f"
      },
      "outputs": [
        {
          "output_type": "stream",
          "name": "stdout",
          "text": [
            "Resultados para K-Nearest Neighbors:\n",
            "              precision    recall  f1-score   support\n",
            "\n",
            "         0.0       0.83      0.82      0.83      3158\n",
            "         1.0       0.87      0.89      0.88      5024\n",
            "         2.0       0.89      0.88      0.89      4624\n",
            "         3.0       0.91      0.89      0.90      3724\n",
            "\n",
            "    accuracy                           0.87     16530\n",
            "   macro avg       0.87      0.87      0.87     16530\n",
            "weighted avg       0.87      0.87      0.87     16530\n",
            "\n",
            "\n",
            "AUC para el clasificador K-Nearest Neighbors: 0.9848054202211284\n",
            "\n",
            "Accuracy promedio en K-fold cross-validation: 0.8483536427275084\n",
            "\n"
          ]
        },
        {
          "output_type": "display_data",
          "data": {
            "text/plain": [
              "<Figure size 1000x600 with 1 Axes>"
            ],
            "image/png": "[encoded data removed]"
          },
          "metadata": {}
        }
      ],
      "source": [
        "model_name = \"K-Nearest Neighbors\"  # Reemplazar con el nombre del modelo que estás evaluando\n",
        "model = models[model_name]\n",
        "y_pred, X_test_transformed, report, cv_results = train_and_evaluate_model(model_name, X_train, X_test, y_train, y_test)\n",
        "\n",
        "y_pred_probabilities = model.predict_proba(X_test_transformed)\n",
        "plot_roc_curve_multiclass_from_probabilities(y_test, y_pred_probabilities)"
      ],
      "id": "uKSXbHXqTdDz"
    }
  ],
  "metadata": {
    "colab": {
      "provenance": []
    },
    "kernelspec": {
      "display_name": "Python 3 (ipykernel)",
      "language": "python",
      "name": "python3"
    },
    "language_info": {
      "codemirror_mode": {
        "name": "ipython",
        "version": 3
      },
      "file_extension": ".py",
      "mimetype": "text/x-python",
      "name": "python",
      "nbconvert_exporter": "python",
      "pygments_lexer": "ipython3",
      "version": "3.11.4"
    }
  },
  "nbformat": 4,
  "nbformat_minor": 5
}